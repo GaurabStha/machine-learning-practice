{
 "cells": [
  {
   "cell_type": "markdown",
   "id": "71f3a103",
   "metadata": {},
   "source": [
    "# House Price Prediction"
   ]
  },
  {
   "cell_type": "markdown",
   "id": "e106b334",
   "metadata": {},
   "source": [
    "### Importing the libraries"
   ]
  },
  {
   "cell_type": "code",
   "execution_count": 1,
   "id": "6d878d1a",
   "metadata": {},
   "outputs": [],
   "source": [
    "import pandas as pd\n",
    "import numpy as np\n",
    "import seaborn as sns\n",
    "import matplotlib.pyplot as plt\n",
    "%matplotlib inline"
   ]
  },
  {
   "cell_type": "markdown",
   "id": "0f409e24",
   "metadata": {},
   "source": [
    "### Importing the dataset"
   ]
  },
  {
   "cell_type": "code",
   "execution_count": 2,
   "id": "10b5d924",
   "metadata": {},
   "outputs": [
    {
     "name": "stdout",
     "output_type": "stream",
     "text": [
      "{'data': array([[6.3200e-03, 1.8000e+01, 2.3100e+00, ..., 1.5300e+01, 3.9690e+02,\n",
      "        4.9800e+00],\n",
      "       [2.7310e-02, 0.0000e+00, 7.0700e+00, ..., 1.7800e+01, 3.9690e+02,\n",
      "        9.1400e+00],\n",
      "       [2.7290e-02, 0.0000e+00, 7.0700e+00, ..., 1.7800e+01, 3.9283e+02,\n",
      "        4.0300e+00],\n",
      "       ...,\n",
      "       [6.0760e-02, 0.0000e+00, 1.1930e+01, ..., 2.1000e+01, 3.9690e+02,\n",
      "        5.6400e+00],\n",
      "       [1.0959e-01, 0.0000e+00, 1.1930e+01, ..., 2.1000e+01, 3.9345e+02,\n",
      "        6.4800e+00],\n",
      "       [4.7410e-02, 0.0000e+00, 1.1930e+01, ..., 2.1000e+01, 3.9690e+02,\n",
      "        7.8800e+00]]), 'target': array([24. , 21.6, 34.7, 33.4, 36.2, 28.7, 22.9, 27.1, 16.5, 18.9, 15. ,\n",
      "       18.9, 21.7, 20.4, 18.2, 19.9, 23.1, 17.5, 20.2, 18.2, 13.6, 19.6,\n",
      "       15.2, 14.5, 15.6, 13.9, 16.6, 14.8, 18.4, 21. , 12.7, 14.5, 13.2,\n",
      "       13.1, 13.5, 18.9, 20. , 21. , 24.7, 30.8, 34.9, 26.6, 25.3, 24.7,\n",
      "       21.2, 19.3, 20. , 16.6, 14.4, 19.4, 19.7, 20.5, 25. , 23.4, 18.9,\n",
      "       35.4, 24.7, 31.6, 23.3, 19.6, 18.7, 16. , 22.2, 25. , 33. , 23.5,\n",
      "       19.4, 22. , 17.4, 20.9, 24.2, 21.7, 22.8, 23.4, 24.1, 21.4, 20. ,\n",
      "       20.8, 21.2, 20.3, 28. , 23.9, 24.8, 22.9, 23.9, 26.6, 22.5, 22.2,\n",
      "       23.6, 28.7, 22.6, 22. , 22.9, 25. , 20.6, 28.4, 21.4, 38.7, 43.8,\n",
      "       33.2, 27.5, 26.5, 18.6, 19.3, 20.1, 19.5, 19.5, 20.4, 19.8, 19.4,\n",
      "       21.7, 22.8, 18.8, 18.7, 18.5, 18.3, 21.2, 19.2, 20.4, 19.3, 22. ,\n",
      "       20.3, 20.5, 17.3, 18.8, 21.4, 15.7, 16.2, 18. , 14.3, 19.2, 19.6,\n",
      "       23. , 18.4, 15.6, 18.1, 17.4, 17.1, 13.3, 17.8, 14. , 14.4, 13.4,\n",
      "       15.6, 11.8, 13.8, 15.6, 14.6, 17.8, 15.4, 21.5, 19.6, 15.3, 19.4,\n",
      "       17. , 15.6, 13.1, 41.3, 24.3, 23.3, 27. , 50. , 50. , 50. , 22.7,\n",
      "       25. , 50. , 23.8, 23.8, 22.3, 17.4, 19.1, 23.1, 23.6, 22.6, 29.4,\n",
      "       23.2, 24.6, 29.9, 37.2, 39.8, 36.2, 37.9, 32.5, 26.4, 29.6, 50. ,\n",
      "       32. , 29.8, 34.9, 37. , 30.5, 36.4, 31.1, 29.1, 50. , 33.3, 30.3,\n",
      "       34.6, 34.9, 32.9, 24.1, 42.3, 48.5, 50. , 22.6, 24.4, 22.5, 24.4,\n",
      "       20. , 21.7, 19.3, 22.4, 28.1, 23.7, 25. , 23.3, 28.7, 21.5, 23. ,\n",
      "       26.7, 21.7, 27.5, 30.1, 44.8, 50. , 37.6, 31.6, 46.7, 31.5, 24.3,\n",
      "       31.7, 41.7, 48.3, 29. , 24. , 25.1, 31.5, 23.7, 23.3, 22. , 20.1,\n",
      "       22.2, 23.7, 17.6, 18.5, 24.3, 20.5, 24.5, 26.2, 24.4, 24.8, 29.6,\n",
      "       42.8, 21.9, 20.9, 44. , 50. , 36. , 30.1, 33.8, 43.1, 48.8, 31. ,\n",
      "       36.5, 22.8, 30.7, 50. , 43.5, 20.7, 21.1, 25.2, 24.4, 35.2, 32.4,\n",
      "       32. , 33.2, 33.1, 29.1, 35.1, 45.4, 35.4, 46. , 50. , 32.2, 22. ,\n",
      "       20.1, 23.2, 22.3, 24.8, 28.5, 37.3, 27.9, 23.9, 21.7, 28.6, 27.1,\n",
      "       20.3, 22.5, 29. , 24.8, 22. , 26.4, 33.1, 36.1, 28.4, 33.4, 28.2,\n",
      "       22.8, 20.3, 16.1, 22.1, 19.4, 21.6, 23.8, 16.2, 17.8, 19.8, 23.1,\n",
      "       21. , 23.8, 23.1, 20.4, 18.5, 25. , 24.6, 23. , 22.2, 19.3, 22.6,\n",
      "       19.8, 17.1, 19.4, 22.2, 20.7, 21.1, 19.5, 18.5, 20.6, 19. , 18.7,\n",
      "       32.7, 16.5, 23.9, 31.2, 17.5, 17.2, 23.1, 24.5, 26.6, 22.9, 24.1,\n",
      "       18.6, 30.1, 18.2, 20.6, 17.8, 21.7, 22.7, 22.6, 25. , 19.9, 20.8,\n",
      "       16.8, 21.9, 27.5, 21.9, 23.1, 50. , 50. , 50. , 50. , 50. , 13.8,\n",
      "       13.8, 15. , 13.9, 13.3, 13.1, 10.2, 10.4, 10.9, 11.3, 12.3,  8.8,\n",
      "        7.2, 10.5,  7.4, 10.2, 11.5, 15.1, 23.2,  9.7, 13.8, 12.7, 13.1,\n",
      "       12.5,  8.5,  5. ,  6.3,  5.6,  7.2, 12.1,  8.3,  8.5,  5. , 11.9,\n",
      "       27.9, 17.2, 27.5, 15. , 17.2, 17.9, 16.3,  7. ,  7.2,  7.5, 10.4,\n",
      "        8.8,  8.4, 16.7, 14.2, 20.8, 13.4, 11.7,  8.3, 10.2, 10.9, 11. ,\n",
      "        9.5, 14.5, 14.1, 16.1, 14.3, 11.7, 13.4,  9.6,  8.7,  8.4, 12.8,\n",
      "       10.5, 17.1, 18.4, 15.4, 10.8, 11.8, 14.9, 12.6, 14.1, 13. , 13.4,\n",
      "       15.2, 16.1, 17.8, 14.9, 14.1, 12.7, 13.5, 14.9, 20. , 16.4, 17.7,\n",
      "       19.5, 20.2, 21.4, 19.9, 19. , 19.1, 19.1, 20.1, 19.9, 19.6, 23.2,\n",
      "       29.8, 13.8, 13.3, 16.7, 12. , 14.6, 21.4, 23. , 23.7, 25. , 21.8,\n",
      "       20.6, 21.2, 19.1, 20.6, 15.2,  7. ,  8.1, 13.6, 20.1, 21.8, 24.5,\n",
      "       23.1, 19.7, 18.3, 21.2, 17.5, 16.8, 22.4, 20.6, 23.9, 22. , 11.9]), 'feature_names': array(['CRIM', 'ZN', 'INDUS', 'CHAS', 'NOX', 'RM', 'AGE', 'DIS', 'RAD',\n",
      "       'TAX', 'PTRATIO', 'B', 'LSTAT'], dtype='<U7'), 'DESCR': \".. _boston_dataset:\\n\\nBoston house prices dataset\\n---------------------------\\n\\n**Data Set Characteristics:**  \\n\\n    :Number of Instances: 506 \\n\\n    :Number of Attributes: 13 numeric/categorical predictive. Median Value (attribute 14) is usually the target.\\n\\n    :Attribute Information (in order):\\n        - CRIM     per capita crime rate by town\\n        - ZN       proportion of residential land zoned for lots over 25,000 sq.ft.\\n        - INDUS    proportion of non-retail business acres per town\\n        - CHAS     Charles River dummy variable (= 1 if tract bounds river; 0 otherwise)\\n        - NOX      nitric oxides concentration (parts per 10 million)\\n        - RM       average number of rooms per dwelling\\n        - AGE      proportion of owner-occupied units built prior to 1940\\n        - DIS      weighted distances to five Boston employment centres\\n        - RAD      index of accessibility to radial highways\\n        - TAX      full-value property-tax rate per $10,000\\n        - PTRATIO  pupil-teacher ratio by town\\n        - B        1000(Bk - 0.63)^2 where Bk is the proportion of black people by town\\n        - LSTAT    % lower status of the population\\n        - MEDV     Median value of owner-occupied homes in $1000's\\n\\n    :Missing Attribute Values: None\\n\\n    :Creator: Harrison, D. and Rubinfeld, D.L.\\n\\nThis is a copy of UCI ML housing dataset.\\nhttps://archive.ics.uci.edu/ml/machine-learning-databases/housing/\\n\\n\\nThis dataset was taken from the StatLib library which is maintained at Carnegie Mellon University.\\n\\nThe Boston house-price data of Harrison, D. and Rubinfeld, D.L. 'Hedonic\\nprices and the demand for clean air', J. Environ. Economics & Management,\\nvol.5, 81-102, 1978.   Used in Belsley, Kuh & Welsch, 'Regression diagnostics\\n...', Wiley, 1980.   N.B. Various transformations are used in the table on\\npages 244-261 of the latter.\\n\\nThe Boston house-price data has been used in many machine learning papers that address regression\\nproblems.   \\n     \\n.. topic:: References\\n\\n   - Belsley, Kuh & Welsch, 'Regression diagnostics: Identifying Influential Data and Sources of Collinearity', Wiley, 1980. 244-261.\\n   - Quinlan,R. (1993). Combining Instance-Based and Model-Based Learning. In Proceedings on the Tenth International Conference of Machine Learning, 236-243, University of Massachusetts, Amherst. Morgan Kaufmann.\\n\", 'filename': '/home/gauri/anaconda3/lib/python3.9/site-packages/sklearn/datasets/data/boston_house_prices.csv'}\n"
     ]
    }
   ],
   "source": [
    "from sklearn.datasets import load_boston\n",
    "house_price_dataset = load_boston()\n",
    "print(house_price_dataset)"
   ]
  },
  {
   "cell_type": "code",
   "execution_count": 3,
   "id": "1a1a88c4",
   "metadata": {},
   "outputs": [
    {
     "data": {
      "text/html": [
       "<div>\n",
       "<style scoped>\n",
       "    .dataframe tbody tr th:only-of-type {\n",
       "        vertical-align: middle;\n",
       "    }\n",
       "\n",
       "    .dataframe tbody tr th {\n",
       "        vertical-align: top;\n",
       "    }\n",
       "\n",
       "    .dataframe thead th {\n",
       "        text-align: right;\n",
       "    }\n",
       "</style>\n",
       "<table border=\"1\" class=\"dataframe\">\n",
       "  <thead>\n",
       "    <tr style=\"text-align: right;\">\n",
       "      <th></th>\n",
       "      <th>CRIM</th>\n",
       "      <th>ZN</th>\n",
       "      <th>INDUS</th>\n",
       "      <th>CHAS</th>\n",
       "      <th>NOX</th>\n",
       "      <th>RM</th>\n",
       "      <th>AGE</th>\n",
       "      <th>DIS</th>\n",
       "      <th>RAD</th>\n",
       "      <th>TAX</th>\n",
       "      <th>PTRATIO</th>\n",
       "      <th>B</th>\n",
       "      <th>LSTAT</th>\n",
       "    </tr>\n",
       "  </thead>\n",
       "  <tbody>\n",
       "    <tr>\n",
       "      <th>0</th>\n",
       "      <td>0.00632</td>\n",
       "      <td>18.0</td>\n",
       "      <td>2.31</td>\n",
       "      <td>0.0</td>\n",
       "      <td>0.538</td>\n",
       "      <td>6.575</td>\n",
       "      <td>65.2</td>\n",
       "      <td>4.0900</td>\n",
       "      <td>1.0</td>\n",
       "      <td>296.0</td>\n",
       "      <td>15.3</td>\n",
       "      <td>396.90</td>\n",
       "      <td>4.98</td>\n",
       "    </tr>\n",
       "    <tr>\n",
       "      <th>1</th>\n",
       "      <td>0.02731</td>\n",
       "      <td>0.0</td>\n",
       "      <td>7.07</td>\n",
       "      <td>0.0</td>\n",
       "      <td>0.469</td>\n",
       "      <td>6.421</td>\n",
       "      <td>78.9</td>\n",
       "      <td>4.9671</td>\n",
       "      <td>2.0</td>\n",
       "      <td>242.0</td>\n",
       "      <td>17.8</td>\n",
       "      <td>396.90</td>\n",
       "      <td>9.14</td>\n",
       "    </tr>\n",
       "    <tr>\n",
       "      <th>2</th>\n",
       "      <td>0.02729</td>\n",
       "      <td>0.0</td>\n",
       "      <td>7.07</td>\n",
       "      <td>0.0</td>\n",
       "      <td>0.469</td>\n",
       "      <td>7.185</td>\n",
       "      <td>61.1</td>\n",
       "      <td>4.9671</td>\n",
       "      <td>2.0</td>\n",
       "      <td>242.0</td>\n",
       "      <td>17.8</td>\n",
       "      <td>392.83</td>\n",
       "      <td>4.03</td>\n",
       "    </tr>\n",
       "    <tr>\n",
       "      <th>3</th>\n",
       "      <td>0.03237</td>\n",
       "      <td>0.0</td>\n",
       "      <td>2.18</td>\n",
       "      <td>0.0</td>\n",
       "      <td>0.458</td>\n",
       "      <td>6.998</td>\n",
       "      <td>45.8</td>\n",
       "      <td>6.0622</td>\n",
       "      <td>3.0</td>\n",
       "      <td>222.0</td>\n",
       "      <td>18.7</td>\n",
       "      <td>394.63</td>\n",
       "      <td>2.94</td>\n",
       "    </tr>\n",
       "    <tr>\n",
       "      <th>4</th>\n",
       "      <td>0.06905</td>\n",
       "      <td>0.0</td>\n",
       "      <td>2.18</td>\n",
       "      <td>0.0</td>\n",
       "      <td>0.458</td>\n",
       "      <td>7.147</td>\n",
       "      <td>54.2</td>\n",
       "      <td>6.0622</td>\n",
       "      <td>3.0</td>\n",
       "      <td>222.0</td>\n",
       "      <td>18.7</td>\n",
       "      <td>396.90</td>\n",
       "      <td>5.33</td>\n",
       "    </tr>\n",
       "  </tbody>\n",
       "</table>\n",
       "</div>"
      ],
      "text/plain": [
       "      CRIM    ZN  INDUS  CHAS    NOX     RM   AGE     DIS  RAD    TAX  \\\n",
       "0  0.00632  18.0   2.31   0.0  0.538  6.575  65.2  4.0900  1.0  296.0   \n",
       "1  0.02731   0.0   7.07   0.0  0.469  6.421  78.9  4.9671  2.0  242.0   \n",
       "2  0.02729   0.0   7.07   0.0  0.469  7.185  61.1  4.9671  2.0  242.0   \n",
       "3  0.03237   0.0   2.18   0.0  0.458  6.998  45.8  6.0622  3.0  222.0   \n",
       "4  0.06905   0.0   2.18   0.0  0.458  7.147  54.2  6.0622  3.0  222.0   \n",
       "\n",
       "   PTRATIO       B  LSTAT  \n",
       "0     15.3  396.90   4.98  \n",
       "1     17.8  396.90   9.14  \n",
       "2     17.8  392.83   4.03  \n",
       "3     18.7  394.63   2.94  \n",
       "4     18.7  396.90   5.33  "
      ]
     },
     "execution_count": 3,
     "metadata": {},
     "output_type": "execute_result"
    }
   ],
   "source": [
    "house_prices_df = pd.DataFrame(house_price_dataset.data, columns = house_price_dataset.feature_names)\n",
    "house_prices_df.head()"
   ]
  },
  {
   "cell_type": "markdown",
   "id": "cf2a1819",
   "metadata": {},
   "source": [
    "##### This dataset has not included the target column i.e. price column so we added the target"
   ]
  },
  {
   "cell_type": "code",
   "execution_count": 4,
   "id": "bb51bc50",
   "metadata": {},
   "outputs": [],
   "source": [
    "house_prices_df['Price'] = house_price_dataset.target"
   ]
  },
  {
   "cell_type": "code",
   "execution_count": 5,
   "id": "710ade44",
   "metadata": {},
   "outputs": [
    {
     "data": {
      "text/html": [
       "<div>\n",
       "<style scoped>\n",
       "    .dataframe tbody tr th:only-of-type {\n",
       "        vertical-align: middle;\n",
       "    }\n",
       "\n",
       "    .dataframe tbody tr th {\n",
       "        vertical-align: top;\n",
       "    }\n",
       "\n",
       "    .dataframe thead th {\n",
       "        text-align: right;\n",
       "    }\n",
       "</style>\n",
       "<table border=\"1\" class=\"dataframe\">\n",
       "  <thead>\n",
       "    <tr style=\"text-align: right;\">\n",
       "      <th></th>\n",
       "      <th>CRIM</th>\n",
       "      <th>ZN</th>\n",
       "      <th>INDUS</th>\n",
       "      <th>CHAS</th>\n",
       "      <th>NOX</th>\n",
       "      <th>RM</th>\n",
       "      <th>AGE</th>\n",
       "      <th>DIS</th>\n",
       "      <th>RAD</th>\n",
       "      <th>TAX</th>\n",
       "      <th>PTRATIO</th>\n",
       "      <th>B</th>\n",
       "      <th>LSTAT</th>\n",
       "      <th>Price</th>\n",
       "    </tr>\n",
       "  </thead>\n",
       "  <tbody>\n",
       "    <tr>\n",
       "      <th>0</th>\n",
       "      <td>0.00632</td>\n",
       "      <td>18.0</td>\n",
       "      <td>2.31</td>\n",
       "      <td>0.0</td>\n",
       "      <td>0.538</td>\n",
       "      <td>6.575</td>\n",
       "      <td>65.2</td>\n",
       "      <td>4.0900</td>\n",
       "      <td>1.0</td>\n",
       "      <td>296.0</td>\n",
       "      <td>15.3</td>\n",
       "      <td>396.90</td>\n",
       "      <td>4.98</td>\n",
       "      <td>24.0</td>\n",
       "    </tr>\n",
       "    <tr>\n",
       "      <th>1</th>\n",
       "      <td>0.02731</td>\n",
       "      <td>0.0</td>\n",
       "      <td>7.07</td>\n",
       "      <td>0.0</td>\n",
       "      <td>0.469</td>\n",
       "      <td>6.421</td>\n",
       "      <td>78.9</td>\n",
       "      <td>4.9671</td>\n",
       "      <td>2.0</td>\n",
       "      <td>242.0</td>\n",
       "      <td>17.8</td>\n",
       "      <td>396.90</td>\n",
       "      <td>9.14</td>\n",
       "      <td>21.6</td>\n",
       "    </tr>\n",
       "    <tr>\n",
       "      <th>2</th>\n",
       "      <td>0.02729</td>\n",
       "      <td>0.0</td>\n",
       "      <td>7.07</td>\n",
       "      <td>0.0</td>\n",
       "      <td>0.469</td>\n",
       "      <td>7.185</td>\n",
       "      <td>61.1</td>\n",
       "      <td>4.9671</td>\n",
       "      <td>2.0</td>\n",
       "      <td>242.0</td>\n",
       "      <td>17.8</td>\n",
       "      <td>392.83</td>\n",
       "      <td>4.03</td>\n",
       "      <td>34.7</td>\n",
       "    </tr>\n",
       "    <tr>\n",
       "      <th>3</th>\n",
       "      <td>0.03237</td>\n",
       "      <td>0.0</td>\n",
       "      <td>2.18</td>\n",
       "      <td>0.0</td>\n",
       "      <td>0.458</td>\n",
       "      <td>6.998</td>\n",
       "      <td>45.8</td>\n",
       "      <td>6.0622</td>\n",
       "      <td>3.0</td>\n",
       "      <td>222.0</td>\n",
       "      <td>18.7</td>\n",
       "      <td>394.63</td>\n",
       "      <td>2.94</td>\n",
       "      <td>33.4</td>\n",
       "    </tr>\n",
       "    <tr>\n",
       "      <th>4</th>\n",
       "      <td>0.06905</td>\n",
       "      <td>0.0</td>\n",
       "      <td>2.18</td>\n",
       "      <td>0.0</td>\n",
       "      <td>0.458</td>\n",
       "      <td>7.147</td>\n",
       "      <td>54.2</td>\n",
       "      <td>6.0622</td>\n",
       "      <td>3.0</td>\n",
       "      <td>222.0</td>\n",
       "      <td>18.7</td>\n",
       "      <td>396.90</td>\n",
       "      <td>5.33</td>\n",
       "      <td>36.2</td>\n",
       "    </tr>\n",
       "  </tbody>\n",
       "</table>\n",
       "</div>"
      ],
      "text/plain": [
       "      CRIM    ZN  INDUS  CHAS    NOX     RM   AGE     DIS  RAD    TAX  \\\n",
       "0  0.00632  18.0   2.31   0.0  0.538  6.575  65.2  4.0900  1.0  296.0   \n",
       "1  0.02731   0.0   7.07   0.0  0.469  6.421  78.9  4.9671  2.0  242.0   \n",
       "2  0.02729   0.0   7.07   0.0  0.469  7.185  61.1  4.9671  2.0  242.0   \n",
       "3  0.03237   0.0   2.18   0.0  0.458  6.998  45.8  6.0622  3.0  222.0   \n",
       "4  0.06905   0.0   2.18   0.0  0.458  7.147  54.2  6.0622  3.0  222.0   \n",
       "\n",
       "   PTRATIO       B  LSTAT  Price  \n",
       "0     15.3  396.90   4.98   24.0  \n",
       "1     17.8  396.90   9.14   21.6  \n",
       "2     17.8  392.83   4.03   34.7  \n",
       "3     18.7  394.63   2.94   33.4  \n",
       "4     18.7  396.90   5.33   36.2  "
      ]
     },
     "execution_count": 5,
     "metadata": {},
     "output_type": "execute_result"
    }
   ],
   "source": [
    "house_prices_df.head()"
   ]
  },
  {
   "cell_type": "markdown",
   "id": "7ec68538",
   "metadata": {},
   "source": [
    "### Checking the shape of the data"
   ]
  },
  {
   "cell_type": "code",
   "execution_count": 6,
   "id": "3df741fa",
   "metadata": {},
   "outputs": [
    {
     "data": {
      "text/plain": [
       "(506, 14)"
      ]
     },
     "execution_count": 6,
     "metadata": {},
     "output_type": "execute_result"
    }
   ],
   "source": [
    "house_prices_df.shape"
   ]
  },
  {
   "cell_type": "markdown",
   "id": "6ccb5ddb",
   "metadata": {},
   "source": [
    "#### Checking if there is null values"
   ]
  },
  {
   "cell_type": "code",
   "execution_count": 7,
   "id": "a20566d5",
   "metadata": {},
   "outputs": [
    {
     "data": {
      "text/plain": [
       "CRIM       0\n",
       "ZN         0\n",
       "INDUS      0\n",
       "CHAS       0\n",
       "NOX        0\n",
       "RM         0\n",
       "AGE        0\n",
       "DIS        0\n",
       "RAD        0\n",
       "TAX        0\n",
       "PTRATIO    0\n",
       "B          0\n",
       "LSTAT      0\n",
       "Price      0\n",
       "dtype: int64"
      ]
     },
     "execution_count": 7,
     "metadata": {},
     "output_type": "execute_result"
    }
   ],
   "source": [
    "house_prices_df.isnull().sum()"
   ]
  },
  {
   "cell_type": "markdown",
   "id": "3a355a1f",
   "metadata": {},
   "source": [
    "### Info ad Describe"
   ]
  },
  {
   "cell_type": "code",
   "execution_count": 8,
   "id": "99ff4b15",
   "metadata": {},
   "outputs": [
    {
     "name": "stdout",
     "output_type": "stream",
     "text": [
      "<class 'pandas.core.frame.DataFrame'>\n",
      "RangeIndex: 506 entries, 0 to 505\n",
      "Data columns (total 14 columns):\n",
      " #   Column   Non-Null Count  Dtype  \n",
      "---  ------   --------------  -----  \n",
      " 0   CRIM     506 non-null    float64\n",
      " 1   ZN       506 non-null    float64\n",
      " 2   INDUS    506 non-null    float64\n",
      " 3   CHAS     506 non-null    float64\n",
      " 4   NOX      506 non-null    float64\n",
      " 5   RM       506 non-null    float64\n",
      " 6   AGE      506 non-null    float64\n",
      " 7   DIS      506 non-null    float64\n",
      " 8   RAD      506 non-null    float64\n",
      " 9   TAX      506 non-null    float64\n",
      " 10  PTRATIO  506 non-null    float64\n",
      " 11  B        506 non-null    float64\n",
      " 12  LSTAT    506 non-null    float64\n",
      " 13  Price    506 non-null    float64\n",
      "dtypes: float64(14)\n",
      "memory usage: 55.5 KB\n"
     ]
    }
   ],
   "source": [
    "house_prices_df.info()"
   ]
  },
  {
   "cell_type": "code",
   "execution_count": 9,
   "id": "a5df6289",
   "metadata": {},
   "outputs": [
    {
     "data": {
      "text/html": [
       "<div>\n",
       "<style scoped>\n",
       "    .dataframe tbody tr th:only-of-type {\n",
       "        vertical-align: middle;\n",
       "    }\n",
       "\n",
       "    .dataframe tbody tr th {\n",
       "        vertical-align: top;\n",
       "    }\n",
       "\n",
       "    .dataframe thead th {\n",
       "        text-align: right;\n",
       "    }\n",
       "</style>\n",
       "<table border=\"1\" class=\"dataframe\">\n",
       "  <thead>\n",
       "    <tr style=\"text-align: right;\">\n",
       "      <th></th>\n",
       "      <th>CRIM</th>\n",
       "      <th>ZN</th>\n",
       "      <th>INDUS</th>\n",
       "      <th>CHAS</th>\n",
       "      <th>NOX</th>\n",
       "      <th>RM</th>\n",
       "      <th>AGE</th>\n",
       "      <th>DIS</th>\n",
       "      <th>RAD</th>\n",
       "      <th>TAX</th>\n",
       "      <th>PTRATIO</th>\n",
       "      <th>B</th>\n",
       "      <th>LSTAT</th>\n",
       "      <th>Price</th>\n",
       "    </tr>\n",
       "  </thead>\n",
       "  <tbody>\n",
       "    <tr>\n",
       "      <th>count</th>\n",
       "      <td>506.000000</td>\n",
       "      <td>506.000000</td>\n",
       "      <td>506.000000</td>\n",
       "      <td>506.000000</td>\n",
       "      <td>506.000000</td>\n",
       "      <td>506.000000</td>\n",
       "      <td>506.000000</td>\n",
       "      <td>506.000000</td>\n",
       "      <td>506.000000</td>\n",
       "      <td>506.000000</td>\n",
       "      <td>506.000000</td>\n",
       "      <td>506.000000</td>\n",
       "      <td>506.000000</td>\n",
       "      <td>506.000000</td>\n",
       "    </tr>\n",
       "    <tr>\n",
       "      <th>mean</th>\n",
       "      <td>3.613524</td>\n",
       "      <td>11.363636</td>\n",
       "      <td>11.136779</td>\n",
       "      <td>0.069170</td>\n",
       "      <td>0.554695</td>\n",
       "      <td>6.284634</td>\n",
       "      <td>68.574901</td>\n",
       "      <td>3.795043</td>\n",
       "      <td>9.549407</td>\n",
       "      <td>408.237154</td>\n",
       "      <td>18.455534</td>\n",
       "      <td>356.674032</td>\n",
       "      <td>12.653063</td>\n",
       "      <td>22.532806</td>\n",
       "    </tr>\n",
       "    <tr>\n",
       "      <th>std</th>\n",
       "      <td>8.601545</td>\n",
       "      <td>23.322453</td>\n",
       "      <td>6.860353</td>\n",
       "      <td>0.253994</td>\n",
       "      <td>0.115878</td>\n",
       "      <td>0.702617</td>\n",
       "      <td>28.148861</td>\n",
       "      <td>2.105710</td>\n",
       "      <td>8.707259</td>\n",
       "      <td>168.537116</td>\n",
       "      <td>2.164946</td>\n",
       "      <td>91.294864</td>\n",
       "      <td>7.141062</td>\n",
       "      <td>9.197104</td>\n",
       "    </tr>\n",
       "    <tr>\n",
       "      <th>min</th>\n",
       "      <td>0.006320</td>\n",
       "      <td>0.000000</td>\n",
       "      <td>0.460000</td>\n",
       "      <td>0.000000</td>\n",
       "      <td>0.385000</td>\n",
       "      <td>3.561000</td>\n",
       "      <td>2.900000</td>\n",
       "      <td>1.129600</td>\n",
       "      <td>1.000000</td>\n",
       "      <td>187.000000</td>\n",
       "      <td>12.600000</td>\n",
       "      <td>0.320000</td>\n",
       "      <td>1.730000</td>\n",
       "      <td>5.000000</td>\n",
       "    </tr>\n",
       "    <tr>\n",
       "      <th>25%</th>\n",
       "      <td>0.082045</td>\n",
       "      <td>0.000000</td>\n",
       "      <td>5.190000</td>\n",
       "      <td>0.000000</td>\n",
       "      <td>0.449000</td>\n",
       "      <td>5.885500</td>\n",
       "      <td>45.025000</td>\n",
       "      <td>2.100175</td>\n",
       "      <td>4.000000</td>\n",
       "      <td>279.000000</td>\n",
       "      <td>17.400000</td>\n",
       "      <td>375.377500</td>\n",
       "      <td>6.950000</td>\n",
       "      <td>17.025000</td>\n",
       "    </tr>\n",
       "    <tr>\n",
       "      <th>50%</th>\n",
       "      <td>0.256510</td>\n",
       "      <td>0.000000</td>\n",
       "      <td>9.690000</td>\n",
       "      <td>0.000000</td>\n",
       "      <td>0.538000</td>\n",
       "      <td>6.208500</td>\n",
       "      <td>77.500000</td>\n",
       "      <td>3.207450</td>\n",
       "      <td>5.000000</td>\n",
       "      <td>330.000000</td>\n",
       "      <td>19.050000</td>\n",
       "      <td>391.440000</td>\n",
       "      <td>11.360000</td>\n",
       "      <td>21.200000</td>\n",
       "    </tr>\n",
       "    <tr>\n",
       "      <th>75%</th>\n",
       "      <td>3.677083</td>\n",
       "      <td>12.500000</td>\n",
       "      <td>18.100000</td>\n",
       "      <td>0.000000</td>\n",
       "      <td>0.624000</td>\n",
       "      <td>6.623500</td>\n",
       "      <td>94.075000</td>\n",
       "      <td>5.188425</td>\n",
       "      <td>24.000000</td>\n",
       "      <td>666.000000</td>\n",
       "      <td>20.200000</td>\n",
       "      <td>396.225000</td>\n",
       "      <td>16.955000</td>\n",
       "      <td>25.000000</td>\n",
       "    </tr>\n",
       "    <tr>\n",
       "      <th>max</th>\n",
       "      <td>88.976200</td>\n",
       "      <td>100.000000</td>\n",
       "      <td>27.740000</td>\n",
       "      <td>1.000000</td>\n",
       "      <td>0.871000</td>\n",
       "      <td>8.780000</td>\n",
       "      <td>100.000000</td>\n",
       "      <td>12.126500</td>\n",
       "      <td>24.000000</td>\n",
       "      <td>711.000000</td>\n",
       "      <td>22.000000</td>\n",
       "      <td>396.900000</td>\n",
       "      <td>37.970000</td>\n",
       "      <td>50.000000</td>\n",
       "    </tr>\n",
       "  </tbody>\n",
       "</table>\n",
       "</div>"
      ],
      "text/plain": [
       "             CRIM          ZN       INDUS        CHAS         NOX          RM  \\\n",
       "count  506.000000  506.000000  506.000000  506.000000  506.000000  506.000000   \n",
       "mean     3.613524   11.363636   11.136779    0.069170    0.554695    6.284634   \n",
       "std      8.601545   23.322453    6.860353    0.253994    0.115878    0.702617   \n",
       "min      0.006320    0.000000    0.460000    0.000000    0.385000    3.561000   \n",
       "25%      0.082045    0.000000    5.190000    0.000000    0.449000    5.885500   \n",
       "50%      0.256510    0.000000    9.690000    0.000000    0.538000    6.208500   \n",
       "75%      3.677083   12.500000   18.100000    0.000000    0.624000    6.623500   \n",
       "max     88.976200  100.000000   27.740000    1.000000    0.871000    8.780000   \n",
       "\n",
       "              AGE         DIS         RAD         TAX     PTRATIO           B  \\\n",
       "count  506.000000  506.000000  506.000000  506.000000  506.000000  506.000000   \n",
       "mean    68.574901    3.795043    9.549407  408.237154   18.455534  356.674032   \n",
       "std     28.148861    2.105710    8.707259  168.537116    2.164946   91.294864   \n",
       "min      2.900000    1.129600    1.000000  187.000000   12.600000    0.320000   \n",
       "25%     45.025000    2.100175    4.000000  279.000000   17.400000  375.377500   \n",
       "50%     77.500000    3.207450    5.000000  330.000000   19.050000  391.440000   \n",
       "75%     94.075000    5.188425   24.000000  666.000000   20.200000  396.225000   \n",
       "max    100.000000   12.126500   24.000000  711.000000   22.000000  396.900000   \n",
       "\n",
       "            LSTAT       Price  \n",
       "count  506.000000  506.000000  \n",
       "mean    12.653063   22.532806  \n",
       "std      7.141062    9.197104  \n",
       "min      1.730000    5.000000  \n",
       "25%      6.950000   17.025000  \n",
       "50%     11.360000   21.200000  \n",
       "75%     16.955000   25.000000  \n",
       "max     37.970000   50.000000  "
      ]
     },
     "execution_count": 9,
     "metadata": {},
     "output_type": "execute_result"
    }
   ],
   "source": [
    "house_prices_df.describe()"
   ]
  },
  {
   "cell_type": "markdown",
   "id": "a427fa08",
   "metadata": {},
   "source": [
    "### Understanding the correlation between various features in the dataset\n",
    "1. Positive Correlation\n",
    "2. Negative Correlation"
   ]
  },
  {
   "cell_type": "code",
   "execution_count": 10,
   "id": "0dc294e2",
   "metadata": {},
   "outputs": [],
   "source": [
    "correlation = house_prices_df.corr()"
   ]
  },
  {
   "cell_type": "code",
   "execution_count": 11,
   "id": "7a0f061e",
   "metadata": {
    "scrolled": true
   },
   "outputs": [
    {
     "data": {
      "image/png": "[encoded data removed]",
      "text/plain": [
       "<Figure size 1080x1080 with 2 Axes>"
      ]
     },
     "metadata": {
      "needs_background": "light"
     },
     "output_type": "display_data"
    }
   ],
   "source": [
    "#### Constructing the heatmap to visualize correlation\n",
    "plt.figure(figsize=(15, 15))\n",
    "\n",
    "sns.heatmap(correlation, cbar=True, fmt='.1f', annot=True, annot_kws={'size': 8}, cmap='Blues')\n",
    "plt.show()"
   ]
  },
  {
   "cell_type": "markdown",
   "id": "6afdef37",
   "metadata": {},
   "source": [
    "### Splitting the data and the target"
   ]
  },
  {
   "cell_type": "code",
   "execution_count": 12,
   "id": "dd26d919",
   "metadata": {},
   "outputs": [],
   "source": [
    "X = house_prices_df.drop('Price', axis=1)\n",
    "y = house_prices_df['Price']"
   ]
  },
  {
   "cell_type": "markdown",
   "id": "089a3a2a",
   "metadata": {},
   "source": [
    "### Splitting the data into training and test set"
   ]
  },
  {
   "cell_type": "code",
   "execution_count": 13,
   "id": "e3d71117",
   "metadata": {},
   "outputs": [],
   "source": [
    "from sklearn.model_selection import train_test_split\n",
    "X_train, X_test, y_train, y_test = train_test_split(X, y, test_size=0.2, random_state=42)"
   ]
  },
  {
   "cell_type": "markdown",
   "id": "3094a5ef",
   "metadata": {},
   "source": [
    "### Train our model with training dataset"
   ]
  },
  {
   "cell_type": "code",
   "execution_count": 14,
   "id": "f5cf5fff",
   "metadata": {},
   "outputs": [
    {
     "data": {
      "text/plain": [
       "XGBRegressor(base_score=0.5, booster='gbtree', colsample_bylevel=1,\n",
       "             colsample_bynode=1, colsample_bytree=1, enable_categorical=False,\n",
       "             gamma=0, gpu_id=-1, importance_type=None,\n",
       "             interaction_constraints='', learning_rate=0.300000012,\n",
       "             max_delta_step=0, max_depth=6, min_child_weight=1, missing=nan,\n",
       "             monotone_constraints='()', n_estimators=100, n_jobs=4,\n",
       "             num_parallel_tree=1, predictor='auto', random_state=0, reg_alpha=0,\n",
       "             reg_lambda=1, scale_pos_weight=1, subsample=1, tree_method='exact',\n",
       "             validate_parameters=1, verbosity=None)"
      ]
     },
     "execution_count": 14,
     "metadata": {},
     "output_type": "execute_result"
    }
   ],
   "source": [
    "from xgboost import XGBRegressor\n",
    "model = XGBRegressor()\n",
    "model.fit(X_train, y_train)"
   ]
  },
  {
   "cell_type": "code",
   "execution_count": 15,
   "id": "a112d8be",
   "metadata": {},
   "outputs": [
    {
     "data": {
      "text/plain": [
       "array([23.25328  , 30.024755 , 15.632249 , 23.313478 , 17.775118 ,\n",
       "       21.142563 , 20.19583  , 15.010124 , 21.23614  , 22.242369 ,\n",
       "       20.457346 , 19.209145 ,  8.551788 , 21.210636 , 20.696491 ,\n",
       "       26.74365  , 18.824339 , 10.525872 , 45.68885  , 14.116162 ,\n",
       "       26.618996 , 24.94542  , 13.3510275, 20.87231  , 15.400073 ,\n",
       "       15.636547 , 22.324673 , 12.777009 , 20.726126 , 22.56401  ,\n",
       "       20.346395 , 22.303246 , 18.523277 , 21.764612 , 15.568828 ,\n",
       "       15.683646 , 33.073547 , 19.115112 , 21.955132 , 22.399914 ,\n",
       "       18.998787 , 31.328337 , 43.464993 , 18.20766  , 22.09233  ,\n",
       "       14.353467 , 14.607512 , 22.716745 , 19.700527 , 27.072327 ,\n",
       "       22.579268 , 35.133675 , 16.241447 , 25.214682 , 46.013332 ,\n",
       "       21.89786  , 15.043295 , 32.93268  , 20.53731  , 16.568089 ,\n",
       "       24.07178  , 34.34796  , 28.542194 , 16.977676 , 25.867334 ,\n",
       "       15.649837 , 13.039615 , 23.00082  , 27.26897  , 15.414835 ,\n",
       "       21.546648 , 31.72919  , 10.665012 , 20.770847 , 21.848396 ,\n",
       "        6.475782 , 20.939093 , 46.59454  , 12.456056 ,  8.739085 ,\n",
       "       22.215406 , 13.390212 , 20.454681 , 10.45914  , 19.722834 ,\n",
       "       27.327946 , 16.254663 , 23.860172 , 25.414312 , 17.06042  ,\n",
       "       22.9362   ,  8.106883 , 19.001764 , 18.869307 , 24.129864 ,\n",
       "       19.66075  , 40.517284 , 13.981451 , 11.416717 , 15.428753 ,\n",
       "       19.41982  , 24.281776 ], dtype=float32)"
      ]
     },
     "execution_count": 15,
     "metadata": {},
     "output_type": "execute_result"
    }
   ],
   "source": [
    "y_preds_test = model.predict(X_test)\n",
    "y_preds_test"
   ]
  },
  {
   "cell_type": "code",
   "execution_count": 16,
   "id": "47a73f83",
   "metadata": {},
   "outputs": [
    {
     "data": {
      "text/plain": [
       "array([12.006792 , 19.914322 , 19.41386  , 13.41272  , 18.233686 ,\n",
       "       24.599525 , 21.084385 , 24.691845 ,  8.696693 , 27.479736 ,\n",
       "       20.694065 , 36.1663   , 31.603483 , 11.695366 , 39.791046 ,\n",
       "       13.88976  , 21.810648 , 23.713993 , 17.597576 , 24.410297 ,\n",
       "        8.793519 , 19.173897 , 25.288088 , 20.433308 , 23.098907 ,\n",
       "       37.891342 , 15.598552 , 45.398563 , 15.698146 , 22.600924 ,\n",
       "       14.546442 , 18.711456 , 17.798622 , 16.106794 , 20.609913 ,\n",
       "       31.608261 , 29.09079  , 15.603799 , 17.517525 , 22.501944 ,\n",
       "       19.392653 , 19.290897 ,  8.49561  , 20.603264 , 16.995317 ,\n",
       "       17.08292  , 14.509991 , 49.995197 , 14.281856 , 12.59869  ,\n",
       "       28.704367 , 21.207237 , 19.308727 , 23.09419  , 19.099642 ,\n",
       "       25.001644 , 33.402706 ,  5.00865  , 29.600845 , 18.669462 ,\n",
       "       21.661974 , 23.051264 , 22.805435 , 20.95566  , 48.781216 ,\n",
       "       14.632303 , 16.598646 , 27.074171 , 20.081707 , 19.794664 ,\n",
       "       21.010654 , 41.29935  , 23.153635 , 20.358414 , 18.55529  ,\n",
       "       29.412376 , 36.40918  , 24.369547 , 11.815963 , 13.803553 ,\n",
       "       12.26066  , 17.789642 , 33.0957   , 26.747456 , 13.385397 ,\n",
       "       14.390727 , 50.0101   , 21.988642 , 19.892096 , 23.77793  ,\n",
       "       17.521416 , 12.686036 ,  5.604692 , 31.102188 , 26.214396 ,\n",
       "       19.394894 , 16.700687 , 13.799928 , 22.910137 , 15.304866 ,\n",
       "       27.509277 , 36.0918   , 22.874144 , 24.472837 , 24.960222 ,\n",
       "       49.997704 , 34.87582  , 31.73247  , 24.098587 , 22.109516 ,\n",
       "       14.123575 , 42.796196 , 19.325815 , 32.187332 , 26.372147 ,\n",
       "       21.805946 , 21.689602 ,  8.296155 , 46.700947 , 43.148296 ,\n",
       "       31.480734 , 10.482078 , 16.70251  , 19.989946 , 33.329723 ,\n",
       "       17.792757 , 49.994827 , 20.512388 , 23.181997 , 13.081055 ,\n",
       "       19.617819 , 22.799692 , 28.703516 , 30.71666  , 22.890793 ,\n",
       "       21.898142 , 23.892689 , 32.70598  , 24.303967 , 21.490267 ,\n",
       "       24.583395 ,  8.526644 , 26.394464 , 23.027435 , 15.012845 ,\n",
       "        8.805406 , 19.373169 , 23.928858 , 24.659529 , 19.79578  ,\n",
       "       23.780231 , 13.290449 , 29.002087 , 27.0892   , 34.586098 ,\n",
       "       13.292319 , 15.608231 , 12.528827 , 14.5950165, 10.973822 ,\n",
       "       24.783852 , 17.302105 ,  8.100943 , 21.405794 , 15.597286 ,\n",
       "       23.329689 , 32.013943 , 38.696953 , 30.09569  , 20.507383 ,\n",
       "       32.489983 , 42.29373  , 24.289165 , 20.607313 , 22.060888 ,\n",
       "       18.201572 , 15.001471 ,  6.3028407, 20.103695 , 21.386175 ,\n",
       "       28.40405  , 30.01001  , 20.80584  , 23.01445  , 14.367735 ,\n",
       "       11.696215 , 37.304226 , 17.098387 , 10.399942 , 22.971632 ,\n",
       "       22.716787 , 20.313557 , 21.676828 , 49.99972  ,  8.39927  ,\n",
       "       18.822573 , 37.21775  , 16.096394 , 16.50256  , 22.224373 ,\n",
       "       20.60043  , 13.515775 , 48.29156  , 23.810686 , 22.696497 ,\n",
       "       17.40862  , 30.293821 , 35.981915 , 41.707233 , 18.307549 ,\n",
       "       21.997921 , 18.603247 , 44.799805 , 11.915975 , 18.711937 ,\n",
       "       16.186481 , 22.017584 ,  7.2080135, 20.400402 , 13.782337 ,\n",
       "       13.003643 , 18.360273 , 23.101606 , 21.200968 , 23.092686 ,\n",
       "       23.505844 , 50.00068  , 26.570215 , 22.177225 , 50.0089   ,\n",
       "        8.298076 , 23.304117 , 21.712616 , 18.972599 , 18.40083  ,\n",
       "       17.432724 , 13.408636 , 12.061736 , 26.588373 , 21.687403 ,\n",
       "       28.407064 , 20.50816  , 22.009855 , 13.898941 , 11.331526 ,\n",
       "       29.88582  , 26.62105  , 10.494745 , 23.161224 , 24.385551 ,\n",
       "       45.999058 , 21.906164 ,  7.507369 , 36.170033 , 43.988125 ,\n",
       "       17.784395 , 27.487415 , 37.59683  , 14.112935 , 28.094582 ,\n",
       "       10.222398 , 19.136097 , 43.805214 , 27.895914 , 25.035696 ,\n",
       "       15.999449 , 16.605703 , 13.216297 , 50.012806 , 22.201168 ,\n",
       "       32.906933 , 15.213805 , 14.808653 , 13.833087 , 24.293734 ,\n",
       "       33.79947  , 22.303656 , 49.992897 ,  9.505929 , 13.308888 ,\n",
       "       22.207737 , 18.094526 , 18.004805 , 25.022642 , 16.50053  ,\n",
       "       23.016598 , 20.088505 , 32.997852 , 24.81184  , 18.25233  ,\n",
       "       13.110781 , 34.90601  , 10.20654  , 19.900312 , 27.893597 ,\n",
       "       23.304026 , 35.09893  , 12.779468 , 22.008572 , 18.491777 ,\n",
       "       25.139647 , 22.485453 , 22.392208 , 28.596422 , 19.53014  ,\n",
       "       24.801777 , 24.448523 , 21.41991  , 33.10218  , 22.887705 ,\n",
       "       20.701757 , 24.094767 , 50.00511  , 24.703756 , 28.674664 ,\n",
       "        7.221856 , 36.9461   , 20.306702 , 30.109777 , 19.493416 ,\n",
       "       23.362553 , 11.491878 , 21.593145 , 14.906346 , 15.193777 ,\n",
       "       19.403543 ,  8.401711 , 27.974258 , 22.61201  , 13.498264 ,\n",
       "       14.487641 , 30.976194 , 10.908737 , 21.885714 , 22.020124 ,\n",
       "       18.999578 , 21.385395 , 25.019173 , 17.502197 , 36.495224 ,\n",
       "       20.102486 , 20.348663 , 16.19895  , 23.60941  ,  7.422648 ,\n",
       "       35.210255 , 50.010445 , 19.294695 , 21.224382 , 15.598267 ,\n",
       "       33.419327 , 19.119143 , 21.029436 , 23.70131  , 18.899162 ,\n",
       "       16.807821 , 19.708471 , 17.73315  , 22.58946  , 11.790132 ,\n",
       "       34.959263 , 20.551994 , 20.190685 , 31.952879 , 22.32405  ,\n",
       "       23.304356 , 14.3989525, 31.187862 , 23.981054 , 29.603672 ,\n",
       "       19.550035 , 21.602537 , 19.9373   , 26.990494 , 33.17728  ,\n",
       "       15.41417  , 30.476479 ,  7.2053533, 23.898226 , 16.296663 ,\n",
       "       23.910059 , 49.994213 , 22.825403 , 15.397418 , 19.206684 ,\n",
       "       19.593248 , 22.593292 , 33.17042  , 49.991238 , 22.252522 ,\n",
       "       14.896758 , 19.808842 , 23.698444 , 18.973715 , 20.320982 ,\n",
       "       11.928814 , 13.597039 , 29.822527 , 21.718994 , 19.479317 ,\n",
       "       21.09221  , 24.528873 , 13.398071 , 18.600246 ], dtype=float32)"
      ]
     },
     "execution_count": 16,
     "metadata": {},
     "output_type": "execute_result"
    }
   ],
   "source": [
    "y_preds_train = model.predict(X_train)\n",
    "y_preds_train"
   ]
  },
  {
   "cell_type": "markdown",
   "id": "b0791d0c",
   "metadata": {},
   "source": [
    "### Calculating the accuracy score"
   ]
  },
  {
   "cell_type": "code",
   "execution_count": 17,
   "id": "8905f30b",
   "metadata": {},
   "outputs": [
    {
     "data": {
      "text/plain": [
       "0.9105388132305845"
      ]
     },
     "execution_count": 17,
     "metadata": {},
     "output_type": "execute_result"
    }
   ],
   "source": [
    "test_score = model.score(X_test, y_test)\n",
    "test_score"
   ]
  },
  {
   "cell_type": "code",
   "execution_count": 18,
   "id": "ddd4343d",
   "metadata": {},
   "outputs": [
    {
     "data": {
      "text/plain": [
       "0.9999953622164942"
      ]
     },
     "execution_count": 18,
     "metadata": {},
     "output_type": "execute_result"
    }
   ],
   "source": [
    "train_score = model.score(X_train, y_train)\n",
    "train_score"
   ]
  },
  {
   "cell_type": "markdown",
   "id": "657ba0e9",
   "metadata": {},
   "source": [
    "### Calculating the R-squared error"
   ]
  },
  {
   "cell_type": "code",
   "execution_count": 19,
   "id": "bef9b5f1",
   "metadata": {},
   "outputs": [
    {
     "name": "stdout",
     "output_type": "stream",
     "text": [
      "The R-squared error on train data:  0.9999953622164942\n",
      "The R-squared error on test data:  0.9105388132305845\n"
     ]
    }
   ],
   "source": [
    "from sklearn.metrics import r2_score\n",
    "Rsq_err_train = r2_score(y_train, y_preds_train)\n",
    "print('The R-squared error on train data: ', Rsq_err_train)\n",
    "\n",
    "Rsq_err_test = r2_score(y_test, y_preds_test)\n",
    "print('The R-squared error on test data: ', Rsq_err_test)"
   ]
  },
  {
   "cell_type": "markdown",
   "id": "7e93a6a8",
   "metadata": {},
   "source": [
    "### Mean Absolute Error"
   ]
  },
  {
   "cell_type": "code",
   "execution_count": 20,
   "id": "b7c2bcbf",
   "metadata": {},
   "outputs": [
    {
     "name": "stdout",
     "output_type": "stream",
     "text": [
      "The Mean Absolute Error on train data:  0.013965251658222466\n",
      "The Mean Absolute Error on test data:  1.9574996602301502\n"
     ]
    }
   ],
   "source": [
    "from sklearn.metrics import mean_absolute_error\n",
    "mean_absolute_err_train = mean_absolute_error(y_train, y_preds_train)\n",
    "print('The Mean Absolute Error on train data: ', mean_absolute_err_train)\n",
    "\n",
    "mean_absolute_err_test = mean_absolute_error(y_test, y_preds_test)\n",
    "print('The Mean Absolute Error on test data: ', mean_absolute_err_test)"
   ]
  },
  {
   "cell_type": "markdown",
   "id": "2fee91b4",
   "metadata": {},
   "source": [
    "### Visualizing the actual price and predicted price in training data"
   ]
  },
  {
   "cell_type": "code",
   "execution_count": 25,
   "id": "53482a11",
   "metadata": {},
   "outputs": [
    {
     "data": {
      "image/png": "[encoded data removed]",
      "text/plain": [
       "<Figure size 720x360 with 1 Axes>"
      ]
     },
     "metadata": {
      "needs_background": "light"
     },
     "output_type": "display_data"
    }
   ],
   "source": [
    "plt.figure(figsize=(10, 5))\n",
    "plt.scatter(y_train, y_preds_train)\n",
    "plt.plot(y_train, y_preds_train, color='red')\n",
    "plt.title('Actual prices vs Predicted prices on Training data')\n",
    "plt.xlabel('Actual Price')\n",
    "plt.ylabel('Predicted Price')\n",
    "plt.show()"
   ]
  },
  {
   "cell_type": "markdown",
   "id": "f6d1a238",
   "metadata": {},
   "source": [
    "### Visualizing the actual price and predicted price in test data"
   ]
  },
  {
   "cell_type": "code",
   "execution_count": 27,
   "id": "65519983",
   "metadata": {},
   "outputs": [
    {
     "data": {
      "image/png": "[encoded data removed]",
      "text/plain": [
       "<Figure size 720x360 with 1 Axes>"
      ]
     },
     "metadata": {
      "needs_background": "light"
     },
     "output_type": "display_data"
    }
   ],
   "source": [
    "plt.figure(figsize=(10, 5))\n",
    "plt.scatter(y_test, y_preds_test)\n",
    "plt.plot(y_train, y_preds_train, color='red')\n",
    "plt.title('Actual prices vs Predicted prices on Test data')\n",
    "plt.xlabel('Actual Price')\n",
    "plt.ylabel('Predicted Price')\n",
    "plt.show()"
   ]
  },
  {
   "cell_type": "markdown",
   "id": "e52abffe",
   "metadata": {},
   "source": [
    "## Now let's fit the other model (like linear regressor, random forest regressor, decision tree regressor, support vector regressor) into the training data "
   ]
  },
  {
   "cell_type": "code",
   "execution_count": 28,
   "id": "401e4e13",
   "metadata": {},
   "outputs": [],
   "source": [
    "from sklearn.linear_model import LinearRegression\n",
    "from sklearn.tree import DecisionTreeRegressor\n",
    "from sklearn.ensemble import RandomForestRegressor\n",
    "from sklearn.svm import SVR"
   ]
  },
  {
   "cell_type": "code",
   "execution_count": 29,
   "id": "0f1b534c",
   "metadata": {},
   "outputs": [],
   "source": [
    "## Let's define a function fit_model\n",
    "\n",
    "def fit_model(model, X_train, X_test, y_train, y_test):\n",
    "    model.fit(X_train, y_train)\n",
    "    print('The predicted values:\\n ', model.predict(X_test))\n",
    "    print('\\nThe accuracy score: ', model.score(X_test, y_test))"
   ]
  },
  {
   "cell_type": "markdown",
   "id": "2022ea07",
   "metadata": {},
   "source": [
    "### Linear Regression"
   ]
  },
  {
   "cell_type": "code",
   "execution_count": 30,
   "id": "5920dcca",
   "metadata": {},
   "outputs": [
    {
     "name": "stdout",
     "output_type": "stream",
     "text": [
      "The predicted values:\n",
      "  [28.99672362 36.02556534 14.81694405 25.03197915 18.76987992 23.25442929\n",
      " 17.66253818 14.34119    23.01320703 20.63245597 24.90850512 18.63883645\n",
      " -6.08842184 21.75834668 19.23922576 26.19319733 20.64773313  5.79472718\n",
      " 40.50033966 17.61289074 27.24909479 30.06625441 11.34179277 24.16077616\n",
      " 17.86058499 15.83609765 22.78148106 14.57704449 22.43626052 19.19631835\n",
      " 22.43383455 25.21979081 25.93909562 17.70162434 16.76911711 16.95125411\n",
      " 31.23340153 20.13246729 23.76579011 24.6322925  13.94204955 32.25576301\n",
      " 42.67251161 17.32745046 27.27618614 16.99310991 14.07009109 25.90341861\n",
      " 20.29485982 29.95339638 21.28860173 34.34451856 16.04739105 26.22562412\n",
      " 39.53939798 22.57950697 18.84531367 32.72531661 25.0673037  12.88628956\n",
      " 22.68221908 30.48287757 31.52626806 15.90148607 20.22094826 16.71089812\n",
      " 20.52384893 25.96356264 30.61607978 11.59783023 20.51232627 27.48111878\n",
      " 11.01962332 15.68096344 23.79316251  6.19929359 21.6039073  41.41377225\n",
      " 18.76548695  8.87931901 20.83076916 13.25620627 20.73963699  9.36482222\n",
      " 23.22444271 31.9155003  19.10228271 25.51579303 29.04256769 20.14358566\n",
      " 25.5859787   5.70159447 20.09474756 14.95069156 12.50395648 20.72635294\n",
      " 24.73957161 -0.164237   13.68486682 16.18359697 22.27621999 24.47902364]\n",
      "\n",
      "The accuracy score:  0.6687594935356294\n"
     ]
    }
   ],
   "source": [
    "fit_model(LinearRegression(), X_train, X_test, y_train, y_test)"
   ]
  },
  {
   "cell_type": "markdown",
   "id": "09dcb8df",
   "metadata": {},
   "source": [
    "### Decision Tree Regressor"
   ]
  },
  {
   "cell_type": "code",
   "execution_count": 31,
   "id": "39dcce7b",
   "metadata": {},
   "outputs": [
    {
     "name": "stdout",
     "output_type": "stream",
     "text": [
      "The predicted values:\n",
      "  [28.1 33.1 15.2 21.7 23.2 18.5 16.6 16.6 23.  22.  27.1 21.4  7.4 21.4\n",
      " 18.5 23.9 19.5 10.5 46.  17.8 22.2 24.4 13.6 22.  14.5 11.7 21.1 13.5\n",
      " 19.4 20.8 27.1 23.1 10.4 16.2 13.3 13.1 33.4 19.  20.4 24.6 19.8 30.1\n",
      " 46.  16.1 22.  17.1 14.3 24.1 17.7 32.  19.4 34.9 16.6 32.  43.8 19.5\n",
      " 15.2 22.8 22.  23.7 26.6 33.  29.4 16.1 27.9 13.4 15.4 22.9 22.8 14.1\n",
      " 24.5 28.7  8.8 18.6 21.4 10.5 19.2 50.  13.3  8.1 21.1 11.9 19.4 10.5\n",
      " 14.5 28.4 13.9 23.  22.9 18.1 23.3  8.8 19.8 17.5 16.2 19.2 50.  11.9\n",
      " 11.7 10.2 18.5 28.1]\n",
      "\n",
      "The accuracy score:  0.8320090518475901\n"
     ]
    }
   ],
   "source": [
    "fit_model(DecisionTreeRegressor(), X_train, X_test, y_train, y_test)"
   ]
  },
  {
   "cell_type": "markdown",
   "id": "94de380e",
   "metadata": {},
   "source": [
    "### Random Forest Regressor"
   ]
  },
  {
   "cell_type": "code",
   "execution_count": 32,
   "id": "e38cfe74",
   "metadata": {},
   "outputs": [
    {
     "name": "stdout",
     "output_type": "stream",
     "text": [
      "The predicted values:\n",
      "  [22.728 30.98  17.389 23.462 17.017 21.272 19.402 15.609 21.278 21.285\n",
      " 20.005 19.081  8.875 21.301 19.194 24.925 19.663  8.505 46.076 15.302\n",
      " 24.967 23.823 14.25  23.874 14.216 14.872 21.5   13.905 19.289 21.664\n",
      " 19.279 23.33  29.497 20.373 14.149 15.751 34.849 19.03  20.567 24.068\n",
      " 19.071 30.153 45.701 19.076 22.576 13.804 15.079 24.108 18.425 28.775\n",
      " 21.172 34.284 17.2   26.039 45.084 21.724 15.654 32.625 22.766 20.692\n",
      " 25.515 34.293 29.153 19.066 27.068 16.926 13.964 22.997 28.906 16.026\n",
      " 20.828 27.754  9.817 22.03  21.849  7.037 19.986 46.177 10.784 12.591\n",
      " 21.08  12.663 19.658  9.223 20.789 26.556 15.409 23.418 23.472 17.81\n",
      " 21.364  8.176 19.479 18.951 22.514 19.725 39.159 12.245 12.579 12.618\n",
      " 20.274 23.1  ]\n",
      "\n",
      "The accuracy score:  0.8785594175106507\n"
     ]
    }
   ],
   "source": [
    "fit_model(RandomForestRegressor(), X_train, X_test, y_train, y_test)"
   ]
  },
  {
   "cell_type": "markdown",
   "id": "3c759acd",
   "metadata": {},
   "source": [
    "### Support Vector Regressor"
   ]
  },
  {
   "cell_type": "code",
   "execution_count": 33,
   "id": "2a089051",
   "metadata": {},
   "outputs": [
    {
     "name": "stdout",
     "output_type": "stream",
     "text": [
      "The predicted values:\n",
      "  [26.11273    32.55199607 15.52297042 24.14099186 18.49975564 21.22914895\n",
      " 17.47848116 16.37591772 19.45212656 20.16923572 21.01887497 18.04291114\n",
      " -7.38338071 20.88612924 17.66440917 25.25240119 19.4272031   4.85827651\n",
      " 40.08122346 17.03587103 26.82848503 28.84711728 12.06985521 24.91201353\n",
      " 16.48813793 12.26294285 21.18954535 14.36039322 18.94136369 18.8399622\n",
      " 19.14699323 24.55659613 25.01836886 15.48548282 14.64865307 17.9905302\n",
      " 30.44823793 20.03974452 21.21029224 24.37583928 14.1052248  30.02494423\n",
      " 42.14269484 16.75860132 25.6632553  15.27821309 13.80847018 25.75322366\n",
      " 18.18176338 28.68606536 19.99084381 32.48546786 16.75677068 25.84047952\n",
      " 38.13082247 21.2277685  18.34409434 32.05656075 24.27475004 12.68258111\n",
      " 23.77265982 31.79712943 29.94655173 15.94921236 21.9155631  13.07848484\n",
      " 19.62042524 25.15239106 30.25922914 10.64846714 19.97338846 24.39328773\n",
      " 10.92830052 18.03146362 22.27495735  5.75117792 20.31512937 40.74551141\n",
      " 18.15076523  9.66190525 20.06212628 10.99686545 21.37210727  8.05203461\n",
      " 21.29398345 27.99493304 19.17355292 25.13702511 27.43489203 20.88086598\n",
      " 23.9568312   4.14763804 20.45578878 15.52154521  6.34315869 20.9581965\n",
      " 20.83452759 -3.16919451 13.18965582 13.86511166 21.44218014 23.14653007]\n",
      "\n",
      "The accuracy score:  0.5986065268181071\n"
     ]
    }
   ],
   "source": [
    "fit_model(SVR(kernel='linear'), X_train, X_test, y_train, y_test)"
   ]
  },
  {
   "cell_type": "code",
   "execution_count": null,
   "id": "9b853f03",
   "metadata": {},
   "outputs": [],
   "source": []
  }
 ],
 "metadata": {
  "kernelspec": {
   "display_name": "Python 3 (ipykernel)",
   "language": "python",
   "name": "python3"
  },
  "language_info": {
   "codemirror_mode": {
    "name": "ipython",
    "version": 3
   },
   "file_extension": ".py",
   "mimetype": "text/x-python",
   "name": "python",
   "nbconvert_exporter": "python",
   "pygments_lexer": "ipython3",
   "version": "3.9.7"
  }
 },
 "nbformat": 4,
 "nbformat_minor": 5
}
